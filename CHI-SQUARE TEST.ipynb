{
 "cells": [
  {
   "cell_type": "markdown",
   "id": "fbc4534f-2326-4d70-b9b2-b382b801b9e3",
   "metadata": {},
   "source": [
    "# CHI-SQUARE TEST"
   ]
  },
  {
   "cell_type": "code",
   "execution_count": 14,
   "id": "3a84f88b-4ba3-4598-9e55-4d0ac532ea0f",
   "metadata": {},
   "outputs": [],
   "source": [
    "from scipy.stats import chi2_contingency\n",
    "from matplotlib import pyplot as plt\n",
    "import pandas as pd\n",
    "from scipy import stats"
   ]
  },
  {
   "cell_type": "markdown",
   "id": "f1009db7-9fe4-4bc4-8000-121434c2dbc6",
   "metadata": {},
   "source": [
    "## Hypotheses for the Chi-Square Test for Independence"
   ]
  },
  {
   "cell_type": "markdown",
   "id": "43de3b25-da19-4fa5-b134-50b118d0f99a",
   "metadata": {},
   "source": [
    "### Null Hypothesis (𝐻0 ):\n",
    "There is no significant association between the type of smart home device (Smart Thermostat vs. Smart Light) and customer satisfaction level.\n",
    "(Customer satisfaction level is independent of the type of smart home device purchased.)"
   ]
  },
  {
   "cell_type": "markdown",
   "id": "14bb89c2-dbf3-47c0-a367-54d3480d80fd",
   "metadata": {},
   "source": [
    "### Alternative Hypothesis (𝐻𝑎):\n",
    "There is a significant association between the type of smart home device (Smart Thermostat vs. Smart Light) and customer satisfaction level.\n",
    "(Customer satisfaction level depends on the type of smart home device purchased.)"
   ]
  },
  {
   "cell_type": "code",
   "execution_count": 4,
   "id": "5b9cf6c8-588e-4819-b2ae-ef0e8f98b0ac",
   "metadata": {},
   "outputs": [],
   "source": [
    "data = [[50,70,120],\n",
    "        [80,100,180],\n",
    "        [60,90,150],\n",
    "        [30,50,180],\n",
    "        [20,50,70],\n",
    "        [240,360,600]]"
   ]
  },
  {
   "cell_type": "code",
   "execution_count": 5,
   "id": "c892e47b-724f-49ad-b9e4-8757bb0587e8",
   "metadata": {},
   "outputs": [],
   "source": [
    "df = pd.DataFrame(data,\n",
    "                 index=['Very Satisfied','Satisfied','Neutral','Unsatisfied','Very Unsatisfied','Total'],\n",
    "                 columns=['SmartThermostat','SmartLight','Total'])"
   ]
  },
  {
   "cell_type": "code",
   "execution_count": 6,
   "id": "31da779a-b3e4-4bb5-8fb3-00e2e6b97a2e",
   "metadata": {},
   "outputs": [
    {
     "data": {
      "text/html": [
       "<div>\n",
       "<style scoped>\n",
       "    .dataframe tbody tr th:only-of-type {\n",
       "        vertical-align: middle;\n",
       "    }\n",
       "\n",
       "    .dataframe tbody tr th {\n",
       "        vertical-align: top;\n",
       "    }\n",
       "\n",
       "    .dataframe thead th {\n",
       "        text-align: right;\n",
       "    }\n",
       "</style>\n",
       "<table border=\"1\" class=\"dataframe\">\n",
       "  <thead>\n",
       "    <tr style=\"text-align: right;\">\n",
       "      <th></th>\n",
       "      <th>SmartThermostat</th>\n",
       "      <th>SmartLight</th>\n",
       "      <th>Total</th>\n",
       "    </tr>\n",
       "  </thead>\n",
       "  <tbody>\n",
       "    <tr>\n",
       "      <th>Very Satisfied</th>\n",
       "      <td>50</td>\n",
       "      <td>70</td>\n",
       "      <td>120</td>\n",
       "    </tr>\n",
       "    <tr>\n",
       "      <th>Satisfied</th>\n",
       "      <td>80</td>\n",
       "      <td>100</td>\n",
       "      <td>180</td>\n",
       "    </tr>\n",
       "    <tr>\n",
       "      <th>Neutral</th>\n",
       "      <td>60</td>\n",
       "      <td>90</td>\n",
       "      <td>150</td>\n",
       "    </tr>\n",
       "    <tr>\n",
       "      <th>Unsatisfied</th>\n",
       "      <td>30</td>\n",
       "      <td>50</td>\n",
       "      <td>180</td>\n",
       "    </tr>\n",
       "    <tr>\n",
       "      <th>Very Unsatisfied</th>\n",
       "      <td>20</td>\n",
       "      <td>50</td>\n",
       "      <td>70</td>\n",
       "    </tr>\n",
       "    <tr>\n",
       "      <th>Total</th>\n",
       "      <td>240</td>\n",
       "      <td>360</td>\n",
       "      <td>600</td>\n",
       "    </tr>\n",
       "  </tbody>\n",
       "</table>\n",
       "</div>"
      ],
      "text/plain": [
       "                  SmartThermostat  SmartLight  Total\n",
       "Very Satisfied                 50          70    120\n",
       "Satisfied                      80         100    180\n",
       "Neutral                        60          90    150\n",
       "Unsatisfied                    30          50    180\n",
       "Very Unsatisfied               20          50     70\n",
       "Total                         240         360    600"
      ]
     },
     "execution_count": 6,
     "metadata": {},
     "output_type": "execute_result"
    }
   ],
   "source": [
    "df"
   ]
  },
  {
   "cell_type": "code",
   "execution_count": 8,
   "id": "f6e84fa3-74f3-45d0-965a-3f700793bb5c",
   "metadata": {},
   "outputs": [],
   "source": [
    "chi2,p,dof,exp=chi2_contingency(data)"
   ]
  },
  {
   "cell_type": "code",
   "execution_count": 9,
   "id": "289c9231-9fb8-48dd-9b34-f0f121975689",
   "metadata": {},
   "outputs": [
    {
     "data": {
      "text/plain": [
       "(40.30645206526617,\n",
       "                   SmartThermostat  SmartLight  Total\n",
       " Very Satisfied                 50          70    120\n",
       " Satisfied                      80         100    180\n",
       " Neutral                        60          90    150\n",
       " Unsatisfied                    30          50    180\n",
       " Very Unsatisfied               20          50     70\n",
       " Total                         240         360    600)"
      ]
     },
     "execution_count": 9,
     "metadata": {},
     "output_type": "execute_result"
    }
   ],
   "source": [
    "chi2, df"
   ]
  },
  {
   "cell_type": "code",
   "execution_count": 10,
   "id": "a5901136-441d-401b-b159-5bd8c7409fad",
   "metadata": {},
   "outputs": [
    {
     "data": {
      "text/plain": [
       "1.4963266954583255e-05"
      ]
     },
     "execution_count": 10,
     "metadata": {},
     "output_type": "execute_result"
    }
   ],
   "source": [
    "p"
   ]
  },
  {
   "cell_type": "code",
   "execution_count": 11,
   "id": "22345cd1-d3b9-43e7-805c-68dcf86b0bff",
   "metadata": {},
   "outputs": [
    {
     "name": "stdout",
     "output_type": "stream",
     "text": [
      "Reject Null Hypothesis.Columns are dependent on each other.\n"
     ]
    }
   ],
   "source": [
    "if p < 0.05:\n",
    "    print('Reject Null Hypothesis.Columns are dependent on each other.')\n",
    "else:\n",
    "    print('Fail to reject null hypothesis.')"
   ]
  },
  {
   "cell_type": "code",
   "execution_count": 17,
   "id": "38575319-cab7-4fa6-8f78-8e6aa7348d8a",
   "metadata": {},
   "outputs": [
    {
     "data": {
      "text/plain": [
       "2.1709078978915386e-10"
      ]
     },
     "execution_count": 17,
     "metadata": {},
     "output_type": "execute_result"
    }
   ],
   "source": [
    "1 - stats.chi2.cdf(40.30645206526617, 1)"
   ]
  }
 ],
 "metadata": {
  "kernelspec": {
   "display_name": "Python 3 (ipykernel)",
   "language": "python",
   "name": "python3"
  },
  "language_info": {
   "codemirror_mode": {
    "name": "ipython",
    "version": 3
   },
   "file_extension": ".py",
   "mimetype": "text/x-python",
   "name": "python",
   "nbconvert_exporter": "python",
   "pygments_lexer": "ipython3",
   "version": "3.12.4"
  }
 },
 "nbformat": 4,
 "nbformat_minor": 5
}
