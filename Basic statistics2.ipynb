{
 "cells": [
  {
   "cell_type": "code",
   "execution_count": 32,
   "id": "bf921cc6-5696-4d45-b3ab-930521bf0d49",
   "metadata": {},
   "outputs": [],
   "source": [
    "import pandas as pd\n",
    "import numpy as np\n",
    "from scipy.stats import t"
   ]
  },
  {
   "cell_type": "markdown",
   "id": "32a6b240-43ec-4e0d-ac6a-8d965f5be48d",
   "metadata": {},
   "source": [
    "# Build 99% Confidence Interval Using Sample Standard Deviation"
   ]
  },
  {
   "cell_type": "code",
   "execution_count": 10,
   "id": "58e722db-6177-4479-b50d-3586cc76ea89",
   "metadata": {},
   "outputs": [
    {
     "data": {
      "text/plain": [
       "[1.13,\n",
       " 1.55,\n",
       " 1.43,\n",
       " 0.92,\n",
       " 1.25,\n",
       " 1.36,\n",
       " 1.32,\n",
       " 0.85,\n",
       " 1.07,\n",
       " 1.48,\n",
       " 1.2,\n",
       " 1.33,\n",
       " 1.18,\n",
       " 1.22,\n",
       " 1.29]"
      ]
     },
     "execution_count": 10,
     "metadata": {},
     "output_type": "execute_result"
    }
   ],
   "source": [
    "data = [1.13, 1.55, 1.43, 0.92, 1.25, 1.36, 1.32, 0.85, 1.07, 1.48, 1.20, 1.33, 1.18, 1.22, 1.29]\n",
    "data"
   ]
  },
  {
   "cell_type": "code",
   "execution_count": 20,
   "id": "63ca3788-d68c-4ec0-b5fd-875608a3d373",
   "metadata": {},
   "outputs": [
    {
     "data": {
      "text/html": [
       "<div>\n",
       "<style scoped>\n",
       "    .dataframe tbody tr th:only-of-type {\n",
       "        vertical-align: middle;\n",
       "    }\n",
       "\n",
       "    .dataframe tbody tr th {\n",
       "        vertical-align: top;\n",
       "    }\n",
       "\n",
       "    .dataframe thead th {\n",
       "        text-align: right;\n",
       "    }\n",
       "</style>\n",
       "<table border=\"1\" class=\"dataframe\">\n",
       "  <thead>\n",
       "    <tr style=\"text-align: right;\">\n",
       "      <th></th>\n",
       "      <th>Durability (millions of characters)</th>\n",
       "    </tr>\n",
       "  </thead>\n",
       "  <tbody>\n",
       "    <tr>\n",
       "      <th>0</th>\n",
       "      <td>1.13</td>\n",
       "    </tr>\n",
       "    <tr>\n",
       "      <th>1</th>\n",
       "      <td>1.55</td>\n",
       "    </tr>\n",
       "    <tr>\n",
       "      <th>2</th>\n",
       "      <td>1.43</td>\n",
       "    </tr>\n",
       "    <tr>\n",
       "      <th>3</th>\n",
       "      <td>0.92</td>\n",
       "    </tr>\n",
       "    <tr>\n",
       "      <th>4</th>\n",
       "      <td>1.25</td>\n",
       "    </tr>\n",
       "    <tr>\n",
       "      <th>5</th>\n",
       "      <td>1.36</td>\n",
       "    </tr>\n",
       "    <tr>\n",
       "      <th>6</th>\n",
       "      <td>1.32</td>\n",
       "    </tr>\n",
       "    <tr>\n",
       "      <th>7</th>\n",
       "      <td>0.85</td>\n",
       "    </tr>\n",
       "    <tr>\n",
       "      <th>8</th>\n",
       "      <td>1.07</td>\n",
       "    </tr>\n",
       "    <tr>\n",
       "      <th>9</th>\n",
       "      <td>1.48</td>\n",
       "    </tr>\n",
       "    <tr>\n",
       "      <th>10</th>\n",
       "      <td>1.20</td>\n",
       "    </tr>\n",
       "    <tr>\n",
       "      <th>11</th>\n",
       "      <td>1.33</td>\n",
       "    </tr>\n",
       "    <tr>\n",
       "      <th>12</th>\n",
       "      <td>1.18</td>\n",
       "    </tr>\n",
       "    <tr>\n",
       "      <th>13</th>\n",
       "      <td>1.22</td>\n",
       "    </tr>\n",
       "    <tr>\n",
       "      <th>14</th>\n",
       "      <td>1.29</td>\n",
       "    </tr>\n",
       "  </tbody>\n",
       "</table>\n",
       "</div>"
      ],
      "text/plain": [
       "    Durability (millions of characters)\n",
       "0                                  1.13\n",
       "1                                  1.55\n",
       "2                                  1.43\n",
       "3                                  0.92\n",
       "4                                  1.25\n",
       "5                                  1.36\n",
       "6                                  1.32\n",
       "7                                  0.85\n",
       "8                                  1.07\n",
       "9                                  1.48\n",
       "10                                 1.20\n",
       "11                                 1.33\n",
       "12                                 1.18\n",
       "13                                 1.22\n",
       "14                                 1.29"
      ]
     },
     "execution_count": 20,
     "metadata": {},
     "output_type": "execute_result"
    }
   ],
   "source": [
    "df = pd.DataFrame({'Durability (millions of characters)': data})\n",
    "df"
   ]
  },
  {
   "cell_type": "code",
   "execution_count": 25,
   "id": "974fc2f1-20f4-40c9-821f-be42cf4abec1",
   "metadata": {},
   "outputs": [
    {
     "data": {
      "text/plain": [
       "1.2386666666666666"
      ]
     },
     "execution_count": 25,
     "metadata": {},
     "output_type": "execute_result"
    }
   ],
   "source": [
    "sample_mean = df['Durability (millions of characters)'].mean()\n",
    "sample_mean"
   ]
  },
  {
   "cell_type": "code",
   "execution_count": 22,
   "id": "f8fb4e59-63b9-42e4-9cc2-bc4ff092f64c",
   "metadata": {},
   "outputs": [
    {
     "data": {
      "text/plain": [
       "0.19316412956959936"
      ]
     },
     "execution_count": 22,
     "metadata": {},
     "output_type": "execute_result"
    }
   ],
   "source": [
    "sample_std = df['Durability (millions of characters)'].std()\n",
    "sample_std"
   ]
  },
  {
   "cell_type": "code",
   "execution_count": 26,
   "id": "52db8983-daed-46fa-ae73-29dc8f757aae",
   "metadata": {},
   "outputs": [
    {
     "data": {
      "text/plain": [
       "15"
      ]
     },
     "execution_count": 26,
     "metadata": {},
     "output_type": "execute_result"
    }
   ],
   "source": [
    "sample_size = df['Durability (millions of characters)'].count()\n",
    "sample_size"
   ]
  },
  {
   "cell_type": "markdown",
   "id": "3d52a035-cd11-4e24-a388-3a55d096c0b4",
   "metadata": {},
   "source": [
    "# Build 99% Confidence Interval Using Known Population Standard Deviation"
   ]
  },
  {
   "cell_type": "code",
   "execution_count": 28,
   "id": "4112308c-b7e0-4c8c-b3a7-07d4e363495c",
   "metadata": {},
   "outputs": [],
   "source": [
    "confidence_level = 0.99\n",
    "alpha = 1 - confidence_level  # Significance level\n",
    "alpha_half = alpha / 2  # For a two-tailed test\n",
    "sample_size = 15  # Given sample size\n",
    "degrees_of_freedom = sample_size - 1"
   ]
  },
  {
   "cell_type": "code",
   "execution_count": 29,
   "id": "828c04c9-a234-4e29-bfd4-cb7152703f54",
   "metadata": {},
   "outputs": [],
   "source": [
    "t_critical = t.ppf(1 - alpha_half, degrees_of_freedom)"
   ]
  },
  {
   "cell_type": "code",
   "execution_count": 30,
   "id": "a81ba2ba-e218-4297-ab4a-3041c8fbaad7",
   "metadata": {},
   "outputs": [
    {
     "name": "stdout",
     "output_type": "stream",
     "text": [
      "Significance Level (α/2): 0.0050000000000000044\n",
      "Degrees of Freedom: 14\n",
      "t-Critical Value: 2.977\n"
     ]
    }
   ],
   "source": [
    "print(f\"Significance Level (α/2): {alpha_half}\")\n",
    "print(f\"Degrees of Freedom: {degrees_of_freedom}\")\n",
    "print(f\"t-Critical Value: {t_critical:.3f}\")"
   ]
  },
  {
   "cell_type": "code",
   "execution_count": 33,
   "id": "83ac1734-a832-4eda-adcc-6182685020b4",
   "metadata": {},
   "outputs": [],
   "source": [
    "margin_of_error = t_critical * (sample_std / np.sqrt(sample_size))"
   ]
  },
  {
   "cell_type": "code",
   "execution_count": 34,
   "id": "12480a25-0d45-4367-bd27-3288072684b6",
   "metadata": {},
   "outputs": [
    {
     "name": "stdout",
     "output_type": "stream",
     "text": [
      "Margin of Error (ME): 0.148 million characters\n"
     ]
    }
   ],
   "source": [
    "print(f\"Margin of Error (ME): {margin_of_error:.3f} million characters\")"
   ]
  },
  {
   "cell_type": "code",
   "execution_count": 35,
   "id": "da036e29-a43f-454c-bd64-0b5240c792de",
   "metadata": {},
   "outputs": [],
   "source": [
    "lower_bound = sample_mean - margin_of_error\n",
    "upper_bound = sample_mean + margin_of_error"
   ]
  },
  {
   "cell_type": "code",
   "execution_count": 36,
   "id": "229ed792-ea14-406d-a9e4-794281393f68",
   "metadata": {},
   "outputs": [
    {
     "name": "stdout",
     "output_type": "stream",
     "text": [
      "Lower Bound: 1.090 million characters\n",
      "Upper Bound: 1.387 million characters\n",
      "Confidence Interval: (1.090, 1.387) million characters\n"
     ]
    }
   ],
   "source": [
    "print(f\"Lower Bound: {lower_bound:.3f} million characters\")\n",
    "print(f\"Upper Bound: {upper_bound:.3f} million characters\")\n",
    "print(f\"Confidence Interval: ({lower_bound:.3f}, {upper_bound:.3f}) million characters\")"
   ]
  },
  {
   "cell_type": "markdown",
   "id": "be8f282b-8dc0-45ed-8d09-46654a43c97e",
   "metadata": {},
   "source": [
    "### The 99% confidence interval for the mean durability of the print-heads is:\n",
    "\n",
    "(\n",
    "1.090\n",
    ",\n",
    "1.387\n",
    ")\n",
    " million characters.\n",
    "(1.090,1.387) million characters.\n",
    "This interval indicates that we are 99% confident the true mean durability of the print-heads lies within this range."
   ]
  }
 ],
 "metadata": {
  "kernelspec": {
   "display_name": "Python 3 (ipykernel)",
   "language": "python",
   "name": "python3"
  },
  "language_info": {
   "codemirror_mode": {
    "name": "ipython",
    "version": 3
   },
   "file_extension": ".py",
   "mimetype": "text/x-python",
   "name": "python",
   "nbconvert_exporter": "python",
   "pygments_lexer": "ipython3",
   "version": "3.12.4"
  }
 },
 "nbformat": 4,
 "nbformat_minor": 5
}
