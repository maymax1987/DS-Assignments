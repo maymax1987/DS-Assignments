{
 "cells": [
  {
   "cell_type": "markdown",
   "id": "ff2601f5-2406-4698-992e-291ce2cd6974",
   "metadata": {},
   "source": [
    "# HYPOTHESIS TESTING"
   ]
  },
  {
   "cell_type": "code",
   "execution_count": 5,
   "id": "7d1ec0d5-3450-46da-8217-952c5a516b5c",
   "metadata": {},
   "outputs": [],
   "source": [
    "import pandas as pd\n",
    "import numpy as np\n",
    "from scipy.stats import norm"
   ]
  },
  {
   "cell_type": "markdown",
   "id": "4f813f4b-4340-4ebf-a5d7-046511fc73f7",
   "metadata": {},
   "source": [
    "## 1. State the Hypotheses Statement:\n",
    "We'll construct hypotheses for the test. Assuming the theoretical model is correct, the mean weekly operating cost is:\n",
    "\n",
    "𝑊=1000+5𝜇𝑋=1000+5(600)=4000W=1000+5μ X=1000+5(600)=4000\n",
    "Thus:\n",
    "\n",
    "Null Hypothesis (\n",
    "𝐻\n",
    "0\n",
    "H \n",
    "0\n",
    "​\n",
    " ): The mean weekly operating cost is $4000 (\n",
    "𝜇\n",
    "𝑊\n",
    "=\n",
    "4000\n",
    "μ \n",
    "W\n",
    "​\n",
    " =4000).\n",
    "Alternative Hypothesis (\n",
    "𝐻\n",
    "1\n",
    "H \n",
    "1\n",
    "​\n",
    " ): The mean weekly operating cost is not $4000 (\n",
    "𝜇\n",
    "𝑊\n",
    "≠\n",
    "4000\n",
    "μ \n",
    "W\n",
    "​\n",
    " \n",
    "\n",
    "=4000)."
   ]
  },
  {
   "cell_type": "markdown",
   "id": "8a65900d-4fc5-4a9e-929a-53028e1a35af",
   "metadata": {},
   "source": [
    "## 2. Calculate the Test Statistic:"
   ]
  },
  {
   "cell_type": "code",
   "execution_count": 2,
   "id": "c73695c7-f508-46c9-ab98-6e379616634f",
   "metadata": {},
   "outputs": [],
   "source": [
    "sample_mean = 3050  # Sample mean weekly cost\n",
    "hypothesized_mean = 4000  # Theoretical weekly cost\n",
    "units_std_dev = 25  # Standard deviation of units produced\n",
    "weekly_cost_std_dev = 5 * units_std_dev  # Weekly cost standard deviation\n",
    "sample_size = 25  # Sample size"
   ]
  },
  {
   "cell_type": "code",
   "execution_count": 3,
   "id": "112f6c51-1a04-4505-b0ce-cab813adbf61",
   "metadata": {},
   "outputs": [],
   "source": [
    "test_statistic = (sample_mean - hypothesized_mean) / (weekly_cost_std_dev / np.sqrt(sample_size))"
   ]
  },
  {
   "cell_type": "code",
   "execution_count": 4,
   "id": "55ab9714-18fc-4524-913c-27187499e165",
   "metadata": {},
   "outputs": [
    {
     "name": "stdout",
     "output_type": "stream",
     "text": [
      "                                          Hypothesis  \\\n",
      "0     Null Hypothesis (H0): Mean weekly cost = $4000   \n",
      "1  Alternative Hypothesis (H1): Mean weekly cost ...   \n",
      "\n",
      "                                          Value  \n",
      "0  Accepted if test statistic ≠ critical values  \n",
      "1                                                \n",
      "Test Statistic (z): -38.000\n"
     ]
    }
   ],
   "source": [
    "df = pd.DataFrame({\n",
    "    \"Hypothesis\": [\"Null Hypothesis (H0): Mean weekly cost = $4000\", \n",
    "                   \"Alternative Hypothesis (H1): Mean weekly cost ≠ $4000\"],\n",
    "    \"Value\": [\"Accepted if test statistic ≠ critical values\", \"\"]\n",
    "})\n",
    "print(df)\n",
    "print(f\"Test Statistic (z): {test_statistic:.3f}\")"
   ]
  },
  {
   "cell_type": "markdown",
   "id": "40b5dd5a-5366-492d-acfa-77ec7c9ddece",
   "metadata": {},
   "source": [
    "## 3. Determine the Critical Value:"
   ]
  },
  {
   "cell_type": "code",
   "execution_count": 6,
   "id": "062fa756-5631-41b6-8f8a-d9ae630b6dc2",
   "metadata": {},
   "outputs": [],
   "source": [
    "alpha = 0.05  # Significance level for a 95% confidence level\n",
    "alpha_half = alpha / 2  # For a two-tailed test"
   ]
  },
  {
   "cell_type": "code",
   "execution_count": 7,
   "id": "d2f9c9f0-c841-43ad-b7c5-203d81c1fc4e",
   "metadata": {},
   "outputs": [],
   "source": [
    "z_critical_positive = norm.ppf(1 - alpha_half)  # Upper critical value\n",
    "z_critical_negative = norm.ppf(alpha_half)  # Lower critical value"
   ]
  },
  {
   "cell_type": "code",
   "execution_count": 8,
   "id": "a6355bfd-af83-445d-8951-534ed40225e9",
   "metadata": {},
   "outputs": [
    {
     "name": "stdout",
     "output_type": "stream",
     "text": [
      "   Significance Level (α)  Critical Value (Lower)  Critical Value (Upper)\n",
      "0                    0.05               -1.959964                1.959964\n"
     ]
    }
   ],
   "source": [
    "df = pd.DataFrame({\n",
    "    \"Significance Level (α)\": [alpha],\n",
    "    \"Critical Value (Lower)\": [z_critical_negative],\n",
    "    \"Critical Value (Upper)\": [z_critical_positive]\n",
    "})\n",
    "\n",
    "print(df)"
   ]
  },
  {
   "cell_type": "markdown",
   "id": "f29c1092-283f-401b-bdf8-5162f95406e9",
   "metadata": {},
   "source": [
    "## 4. Make a Decision:"
   ]
  },
  {
   "cell_type": "code",
   "execution_count": 9,
   "id": "7d2ab8c0-7e9d-4726-83ee-ef4add3b31c1",
   "metadata": {},
   "outputs": [
    {
     "name": "stdout",
     "output_type": "stream",
     "text": [
      "Reject the null hypothesis (H0): The mean weekly cost is significantly different from $4000.\n"
     ]
    }
   ],
   "source": [
    "if test_statistic < z_critical_negative or test_statistic > z_critical_positive:\n",
    "    decision = \"Reject the null hypothesis (H0): The mean weekly cost is significantly different from $4000.\"\n",
    "else:\n",
    "    decision = \"Fail to reject the null hypothesis (H0): There is no significant evidence to suggest the mean weekly cost differs from $4000.\"\n",
    "\n",
    "# Print the decision\n",
    "print(decision)"
   ]
  },
  {
   "cell_type": "markdown",
   "id": "323d403c-319b-47c7-be31-6e6995cdb3b1",
   "metadata": {},
   "source": [
    "## 5. Conclusion:"
   ]
  },
  {
   "cell_type": "code",
   "execution_count": 11,
   "id": "77fc6b27-5884-488d-bb96-58e3a380d7d9",
   "metadata": {},
   "outputs": [
    {
     "name": "stdout",
     "output_type": "stream",
     "text": [
      "Conclusion: There is sufficient evidence at the 95% confidence level to reject the null hypothesis. The mean weekly operating cost is significantly different from $4000.\n"
     ]
    }
   ],
   "source": [
    "if test_statistic < z_critical_negative or test_statistic > z_critical_positive:\n",
    "    conclusion = (\n",
    "        \"Conclusion: There is sufficient evidence at the 95% confidence level to reject the null hypothesis. \"\n",
    "        \"The mean weekly operating cost is significantly different from $4000.\"\n",
    "    )\n",
    "else:\n",
    "    conclusion = (\n",
    "        \"Conclusion: There is insufficient evidence at the 95% confidence level to reject the null hypothesis. \"\n",
    "        \"The mean weekly operating cost is not significantly different from $4000.\"\n",
    "    )\n",
    "\n",
    "# Print the conclusion\n",
    "print(conclusion)"
   ]
  }
 ],
 "metadata": {
  "kernelspec": {
   "display_name": "Python 3 (ipykernel)",
   "language": "python",
   "name": "python3"
  },
  "language_info": {
   "codemirror_mode": {
    "name": "ipython",
    "version": 3
   },
   "file_extension": ".py",
   "mimetype": "text/x-python",
   "name": "python",
   "nbconvert_exporter": "python",
   "pygments_lexer": "ipython3",
   "version": "3.12.4"
  }
 },
 "nbformat": 4,
 "nbformat_minor": 5
}
