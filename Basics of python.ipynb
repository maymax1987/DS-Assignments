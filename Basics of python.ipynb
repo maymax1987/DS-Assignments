{
 "cells": [
  {
   "cell_type": "code",
   "execution_count": null,
   "id": "c295ebbc-cace-48c9-9b5d-4d3ded6859eb",
   "metadata": {},
   "outputs": [],
   "source": [
    "Prime Numbers\n",
    "Write a Python program that checks whether a given number is prime or not.\n",
    "A prime number is a natural number greater than 1 that has no positive divisors other than 1 and itself."
   ]
  },
  {
   "cell_type": "code",
   "execution_count": 1,
   "id": "48af957c-a0a9-4478-bed6-89eaf06eff81",
   "metadata": {},
   "outputs": [
    {
     "name": "stdin",
     "output_type": "stream",
     "text": [
      "Enter a number:  45\n"
     ]
    },
    {
     "name": "stdout",
     "output_type": "stream",
     "text": [
      "45 is not a prime no\n"
     ]
    }
   ],
   "source": [
    "num=int(input(\"Enter a number: \"))\n",
    "if num==0 or num==1:\n",
    "   print(num,\"This is not prime no\")\n",
    "elif num > 1:\n",
    "    for i in range(2,num):\n",
    "        if(num%i==0):\n",
    "            print(num,\"is not a prime no\")\n",
    "            break\n",
    "    else:\n",
    "        print(num,\"is a prime no\")\n",
    "else:\n",
    "    print(num,\"is not a prime no\")"
   ]
  },
  {
   "cell_type": "markdown",
   "id": "f6b18b2a-68f2-40ba-b11f-bf358d5d32ea",
   "metadata": {},
   "source": [
    "Exercise 2: Product of Random Numbers\n",
    "Develop a Python program that generates two random numbers and asks the user to enter the product of these numbers. \n",
    "The program should then check if the user's answer is correct and display an appropriate message."
   ]
  },
  {
   "cell_type": "code",
   "execution_count": 3,
   "id": "e2c29c4f-6644-452d-a419-4736e721a78c",
   "metadata": {},
   "outputs": [
    {
     "name": "stdin",
     "output_type": "stream",
     "text": [
      "What is the product of 3 and 9?  27\n"
     ]
    },
    {
     "name": "stdout",
     "output_type": "stream",
     "text": [
      "Correct! Well done.\n"
     ]
    }
   ],
   "source": [
    "import random\n",
    "\n",
    "def main():\n",
    "    # Generate two random numbers between 1 and 10\n",
    "    num1 = random.randint(1, 10)\n",
    "    num2 = random.randint(1, 10)\n",
    "\n",
    "    # Calculate the correct product\n",
    "    correct_product = num1 * num2\n",
    "\n",
    "    # Ask the user for their answer\n",
    "    user_answer = input(f\"What is the product of {num1} and {num2}? \")\n",
    "\n",
    "    # Check if the input is a number\n",
    "    \n",
    "    user_answer = int(user_answer)\n",
    "        \n",
    "        # Check if the user's answer is correct\n",
    "    if user_answer == correct_product:\n",
    "        print(\"Correct! Well done.\")\n",
    "    else:\n",
    "        print(f\"Incorrect. The correct answer is {correct_product}.\")\n",
    "    \n",
    "    \n",
    "\n",
    "\n",
    "if __name__ == \"__main__\":\n",
    "    main()"
   ]
  },
  {
   "cell_type": "markdown",
   "id": "2b1e487e-efa7-4572-8404-488bf8a1ba8d",
   "metadata": {},
   "source": [
    "Exercise 3: Squares of Even/Odd Numbers\n",
    "Create a Python script that prints the squares of all even or odd numbers within the range of 100 to 200. \n",
    "Choose either even or odd numbers and document your choice in the code."
   ]
  },
  {
   "cell_type": "code",
   "execution_count": 4,
   "id": "180dc0d7-f637-46a1-912e-8cf8097ac0f7",
   "metadata": {},
   "outputs": [
    {
     "name": "stdout",
     "output_type": "stream",
     "text": [
      "The square of 100 is 10000\n",
      "The square of 102 is 10404\n",
      "The square of 104 is 10816\n",
      "The square of 106 is 11236\n",
      "The square of 108 is 11664\n",
      "The square of 110 is 12100\n",
      "The square of 112 is 12544\n",
      "The square of 114 is 12996\n",
      "The square of 116 is 13456\n",
      "The square of 118 is 13924\n",
      "The square of 120 is 14400\n",
      "The square of 122 is 14884\n",
      "The square of 124 is 15376\n",
      "The square of 126 is 15876\n",
      "The square of 128 is 16384\n",
      "The square of 130 is 16900\n",
      "The square of 132 is 17424\n",
      "The square of 134 is 17956\n",
      "The square of 136 is 18496\n",
      "The square of 138 is 19044\n",
      "The square of 140 is 19600\n",
      "The square of 142 is 20164\n",
      "The square of 144 is 20736\n",
      "The square of 146 is 21316\n",
      "The square of 148 is 21904\n",
      "The square of 150 is 22500\n",
      "The square of 152 is 23104\n",
      "The square of 154 is 23716\n",
      "The square of 156 is 24336\n",
      "The square of 158 is 24964\n",
      "The square of 160 is 25600\n",
      "The square of 162 is 26244\n",
      "The square of 164 is 26896\n",
      "The square of 166 is 27556\n",
      "The square of 168 is 28224\n",
      "The square of 170 is 28900\n",
      "The square of 172 is 29584\n",
      "The square of 174 is 30276\n",
      "The square of 176 is 30976\n",
      "The square of 178 is 31684\n",
      "The square of 180 is 32400\n",
      "The square of 182 is 33124\n",
      "The square of 184 is 33856\n",
      "The square of 186 is 34596\n",
      "The square of 188 is 35344\n",
      "The square of 190 is 36100\n",
      "The square of 192 is 36864\n",
      "The square of 194 is 37636\n",
      "The square of 196 is 38416\n",
      "The square of 198 is 39204\n",
      "The square of 200 is 40000\n"
     ]
    }
   ],
   "source": [
    "def print_squares_of_evens(start, end):\n",
    "    # Loop through the range from start to end\n",
    "    for num in range(start, end + 1):\n",
    "        # Check if the number is even\n",
    "        if num % 2 == 0:\n",
    "            square = num ** 2  # Calculate the square\n",
    "            print(f\"The square of {num} is {square}\")\n",
    "\n",
    "# Define the range\n",
    "start_range = 100\n",
    "end_range = 200\n",
    "\n",
    "# Call the function to print squares of even numbers in the specified range\n",
    "print_squares_of_evens(start_range, end_range)\n"
   ]
  },
  {
   "cell_type": "markdown",
   "id": "ad28a433-db9b-410c-8be4-f469a5cad312",
   "metadata": {},
   "source": [
    "Exercise 4: Word counter\n",
    "write a program to count the number of words in a given text.\n",
    "example:\n",
    "input_text = \"This is a sample text. This text will be used to demonstrate the word counter.\"\n",
    "Expected output:\n",
    "'This': 2 "
   ]
  },
  {
   "cell_type": "code",
   "execution_count": 5,
   "id": "9444da6c-56fa-4c46-8120-4bf796afe305",
   "metadata": {},
   "outputs": [
    {
     "name": "stdout",
     "output_type": "stream",
     "text": [
      "'this': 2\n",
      "'is': 1\n",
      "'a': 1\n",
      "'sample': 1\n",
      "'text': 2\n",
      "'will': 1\n",
      "'be': 1\n",
      "'used': 1\n",
      "'to': 1\n",
      "'demonstrate': 1\n",
      "'the': 1\n",
      "'word': 1\n",
      "'counter': 1\n"
     ]
    }
   ],
   "source": [
    "from collections import Counter\n",
    "import re\n",
    "\n",
    "def count_words(input_text):\n",
    "    # Use a regular expression to extract words (case-insensitive)\n",
    "    words = re.findall(r'\\b\\w+\\b', input_text.lower())\n",
    "    \n",
    "    # Count the occurrences of each word\n",
    "    word_count = Counter(words)\n",
    "    \n",
    "    # Print the word counts\n",
    "    for word, count in word_count.items():\n",
    "        print(f\"'{word}': {count}\")\n",
    "\n",
    "# Example input\n",
    "input_text = \"This is a sample text. This text will be used to demonstrate the word counter.\"\n",
    "\n",
    "# Call the function to count words in the input text\n",
    "count_words(input_text)"
   ]
  },
  {
   "cell_type": "code",
   "execution_count": 6,
   "id": "762592e9-2fec-4dfa-a6d8-72c127f0e51b",
   "metadata": {},
   "outputs": [
    {
     "name": "stdout",
     "output_type": "stream",
     "text": [
      "True\n",
      "True\n",
      "False\n"
     ]
    }
   ],
   "source": [
    "import string\n",
    "\n",
    "def is_palindrome(s):\n",
    "    \"\"\"\n",
    "    Checks if a given string is a palindrome, ignoring spaces, punctuation, and capitalization.\n",
    "\n",
    "    Parameters:\n",
    "        s (str): The input string.\n",
    "\n",
    "    Returns:\n",
    "        bool: True if the string is a palindrome, False otherwise.\n",
    "    \"\"\"\n",
    "    # Normalize the string: remove punctuation, spaces, and convert to lowercase\n",
    "    normalized = ''.join(char.lower() for char in s if char.isalnum())\n",
    "    \n",
    "    # Check if the normalized string reads the same forward and backward\n",
    "    return normalized == normalized[::-1]\n",
    "\n",
    "# Example usage\n",
    "print(is_palindrome(\"racecar\"))  # Expected Output: True\n",
    "print(is_palindrome(\"A man, a plan, a canal, Panama\"))  # Expected Output: True\n",
    "print(is_palindrome(\"hello\"))  # Expected Output: False\n"
   ]
  }
 ],
 "metadata": {
  "kernelspec": {
   "display_name": "Python 3 (ipykernel)",
   "language": "python",
   "name": "python3"
  },
  "language_info": {
   "codemirror_mode": {
    "name": "ipython",
    "version": 3
   },
   "file_extension": ".py",
   "mimetype": "text/x-python",
   "name": "python",
   "nbconvert_exporter": "python",
   "pygments_lexer": "ipython3",
   "version": "3.12.4"
  }
 },
 "nbformat": 4,
 "nbformat_minor": 5
}
